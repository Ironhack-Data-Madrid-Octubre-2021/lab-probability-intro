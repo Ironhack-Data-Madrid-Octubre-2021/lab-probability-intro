{
 "cells": [
  {
   "cell_type": "markdown",
   "metadata": {},
   "source": [
    "# Probability"
   ]
  },
  {
   "cell_type": "markdown",
   "metadata": {},
   "source": [
    "## Challenge 1\n",
    "There is a box with 10 white balls, 12 red balls and 8 black balls. Calculate the probability of:\n",
    "* Taking a white ball out.\n",
    "* Taking a white ball on first extraction and a black ball out on second extraction without replacing the first one.\n",
    "* Taking a white ball on first extraction and a black ball out on second extraction replacing the first one.\n",
    "* Taking 3 balls and them being all different colours."
   ]
  },
  {
   "cell_type": "markdown",
   "metadata": {},
   "source": [
    "#### Total_balls = 10 white + 12 red + 8 black = 30 balls\n",
    "\n",
    "The probability is equal to the number of white balls over the total number of balls.\n",
    "(A) 1 white out -> 10 / 30 = 0.33\n",
    "\n",
    "As both events are independent (result from the first extraction does not influence the second): P(T) = P(A) * P(B)\n",
    "For the second extraction, we need to consider that the total amount of balls is 29, as the ball from the first extraction was not replaced.\n",
    "(B) {1 white (not replacing), 1 black} -> (10 / 30) * (8 / 29) = 0.333 * 0.275\n",
    "\n",
    "The same as in (B), but replacing the ball from the first extraction.\n",
    "(C) {1 white (replacing), 1 black} -> (10 / 30) * (8 / 30) = 0.333 * 0.266\n",
    "\n",
    "If the balls are replaced, as the extractions are independent.\n",
    "(D_1) {100, 010, 001}\n",
    "(10/30 of white --> 20/30 of not white)\n",
    "(12/30 of red --> 18/30 of not red)\n",
    "(8/30 of black --> 22/30 of not black)\n",
    "By the reverse method: P(T) = 1 - (20/30) - (18/30) - (22/30)"
   ]
  },
  {
   "cell_type": "markdown",
   "metadata": {},
   "source": [
    "## Challenge 2\n",
    "\n",
    "You want to go on picnic on Saturday. You hate rain, and would know to plan your weekend. To help you make a decision, you gather the following data about rainy days:\n",
    "\n",
    "* 40% of all days are cloudy.\n",
    "* About 50% of cloudy days are rainy. \n",
    "* About 20% of non-cloudy days are rainy.\n",
    "\n",
    "What is the chance of rain during next Saturday?"
   ]
  },
  {
   "cell_type": "markdown",
   "metadata": {},
   "source": [
    "             'Rainy'\n",
    "               /\n",
    "             0.5\n",
    "             /\n",
    "     'Cloudy'\n",
    "       /     \\\n",
    "     0.4     0.5\n",
    "     /         \\\n",
    "  Day       'Not rainy'\n",
    "     \\\n",
    "     0.6          'Rainy'\n",
    "       \\            /\n",
    "        \\         0.2\n",
    "         \\        /\n",
    "      'Non-cloudy'\n",
    "                  \\\n",
    "                  0.8\n",
    "                    \\\n",
    "                'Not rainy'"
   ]
  },
  {
   "cell_type": "markdown",
   "metadata": {},
   "source": [
    "So, independently of the considered time period, the probability for a day to be rainy would be:\n",
    "P(A) = Day > Cloudy > Rainy -> 0.4 * 0.5 = 0.2\n",
    "P(B) = Day > 'Non-cloudy' > Rainy -> 0.6 * 0.2 = 0.12\n",
    "P(T) = P(A) + P(B) = 0.32 -> 32%"
   ]
  },
  {
   "cell_type": "markdown",
   "metadata": {},
   "source": [
    "## Challenge 3\n",
    "\n",
    "A and B are events of a probability such that $P(A) = 0.3$, $P(B) = 0.6$ and $P(A \\cap B) = 0.1$\n",
    "\n",
    "Which of the following statements are true?  \n",
    "**HINT: draw a big Venn Diagram by your side**  \n",
    "* $P(\\overline{A}) = 0.7$\n",
    "* $P(A \\cup B) = 0.6$\n",
    "* $P(A \\cap \\overline{B}) = 0.2$\n",
    "* $P(A \\cup \\overline{A}) = 1$  \n",
    "* $P(A \\cap (B \\cup \\overline{B})) = 0.4$\n",
    "* $P(\\overline{A} \\cap \\overline{B}) = 0.3$\n",
    "* $P(\\overline{A \\cap B}) = 0.9$"
   ]
  },
  {
   "cell_type": "markdown",
   "metadata": {},
   "source": [
    "P(A) = 0.3\n",
    "P(B) = 0.6\n",
    "P(A \\cap B) = 0.1 (A intersection B, both happen)\n",
    "\n",
    "The main formula is: P(A \\cup B) = P(A) + P(B) - P(A \\cap B)\n",
    "\n",
    "(A)$P(\\overline{A}) = 0.7$ //Overline means the opposite --> 1 - A = 0.7 {True}\n",
    "\n",
    "(B)$P(A \\cup B) = 0.6$ --> 0.3 + 0.6 - 0.1 {False}\n",
    "\n",
    "(C)$P(A \\cap \\overline{B}) = 0.2$ // Means A union -B --> 0.6 \\cap 0.4 = 1 {False}\n",
    "\n",
    "(D)$P(A \\cup \\overline{A}) = 1$ --> 0.3 + 0.7 = 1 {True}\n",
    "\n",
    "(E)$P(A \\cap (B \\cup \\overline{B})) = 0.4$ --> A \\cap (0.6 \\cup 0.4) --> 0.3 \\cap (1) --> 0.7 {False}\n",
    "\n",
    "(F)$P(\\overline{A} \\cap \\overline{B}) = 0.3$ --> 0.7 - 0.4 = 0.3 {True}\n",
    "\n",
    "(G)$P(\\overline{A \\cap B}) = 0.9$ --> - (0.3 - 0.6) = - 0.1 = 0.9 {True}"
   ]
  },
  {
   "cell_type": "markdown",
   "metadata": {},
   "source": [
    "## Challenge 4\n",
    "\n",
    " * If someone flies to China, the probability of getting Covid is 1%  \n",
    " * If someone flies to Italy, the probability of getting Covid is 20%  \n",
    "\n",
    "I roll 1 dice with numbers 1, 2, 3, 4, 5, 6:  \n",
    " * If 1: I fly to Italy\n",
    " * If not 1: I fly to China\n",
    "\n",
    "During my trip, I got Covid. What is the probability that I flew to China?"
   ]
  },
  {
   "cell_type": "markdown",
   "metadata": {},
   "source": [
    "             'Not Covid'\n",
    "               /\n",
    "             0.8\n",
    "             /\n",
    "      'Italy'\n",
    "       /     \\\n",
    "     1/6     0.2\n",
    "     /         \\\n",
    "  Trip       'Covid'\n",
    "     \\\n",
    "     5/6          'Covid'\n",
    "       \\            /\n",
    "        \\         0.01\n",
    "         \\        /\n",
    "         'China'\n",
    "                  \\\n",
    "                  0.99\n",
    "                    \\\n",
    "                'Not Covid'"
   ]
  },
  {
   "cell_type": "markdown",
   "metadata": {},
   "source": [
    "Using the Bayes Rule, we have:\n",
    "P(A): 0.01\n",
    "P(B): 0.20\n",
    "P(A|B): 1/6\n",
    "\n",
    "P(B|A) = { ((0.1 * 5/6) / (0.1 * 5/6) + (2 * 1/6) } * 100\n",
    "\n",
    "P(B|A) = 0.20 -> 20 %   "
   ]
  },
  {
   "cell_type": "markdown",
   "metadata": {},
   "source": [
    "## BONUS\n",
    "\n",
    "You roll 2 dice. What is the probability that the sum of the numbers is 7? And 8? And 9? Then simulate 10000 times and draw a countplot."
   ]
  },
  {
   "cell_type": "markdown",
   "metadata": {},
   "source": [
    "your explanation here"
   ]
  },
  {
   "cell_type": "code",
   "execution_count": 2,
   "metadata": {},
   "outputs": [
    {
     "name": "stderr",
     "output_type": "stream",
     "text": [
      "/home/krujo/Anaconda3/lib/python3.8/site-packages/seaborn/_decorators.py:36: FutureWarning: Pass the following variable as a keyword arg: x. From version 0.12, the only valid positional argument will be `data`, and passing other arguments without an explicit keyword will result in an error or misinterpretation.\n",
      "  warnings.warn(\n",
      "/home/krujo/Anaconda3/lib/python3.8/site-packages/seaborn/_decorators.py:36: FutureWarning: Pass the following variable as a keyword arg: x. From version 0.12, the only valid positional argument will be `data`, and passing other arguments without an explicit keyword will result in an error or misinterpretation.\n",
      "  warnings.warn(\n"
     ]
    },
    {
     "data": {
      "text/plain": [
       "<AxesSubplot:ylabel='count'>"
      ]
     },
     "execution_count": 2,
     "metadata": {},
     "output_type": "execute_result"
    },
    {
     "data": {
      "image/png": "[encoded data removed]",
      "text/plain": [
       "<Figure size 864x288 with 2 Axes>"
      ]
     },
     "metadata": {
      "needs_background": "light"
     },
     "output_type": "display_data"
    }
   ],
   "source": [
    "import matplotlib.pyplot as plt\n",
    "import seaborn as sns\n",
    "import numpy as np\n",
    "plt.style.use('ggplot')\n",
    "%matplotlib inline\n",
    "\n",
    "np.random.seed(1738)\n",
    "\n",
    "d1 = np.array([1, 2, 3, 4, 5, 6])\n",
    "d2 = np.array([1, 2, 3, 4, 5, 6])\n",
    "\n",
    "dice_1 = []\n",
    "dice_2 = []\n",
    "sums = []\n",
    "\n",
    "for _ in range(10000):\n",
    "    roll_1 = np.random.choice(d1)\n",
    "    roll_2 = np.random.choice(d2)\n",
    "    dice_1.append(roll_1)\n",
    "    dice_2.append(roll_2)\n",
    "    \n",
    "    sums.append(roll_1 + roll_2)\n",
    "    \n",
    "fig, (ax1, ax2) = plt.subplots(ncols=2, sharey=True, figsize=(12,4))\n",
    "sns.countplot(dice_1, ax=ax1)\n",
    "sns.countplot(dice_2, ax=ax2)"
   ]
  },
  {
   "cell_type": "markdown",
   "metadata": {},
   "source": [
    "When using two dice:\n",
    "Probability of both = Probability of outcome one × Probability of outcome two\n",
    "\n",
    "If the simulation is tested for high enough cycles, as 10000, all the numbers have more or less the same probability of appearing, so:\n",
    "P(every number) = 1/6 * 1/6 = 1/36"
   ]
  },
  {
   "cell_type": "code",
   "execution_count": 4,
   "metadata": {},
   "outputs": [
    {
     "name": "stderr",
     "output_type": "stream",
     "text": [
      "/home/krujo/Anaconda3/lib/python3.8/site-packages/seaborn/_decorators.py:36: FutureWarning: Pass the following variable as a keyword arg: x. From version 0.12, the only valid positional argument will be `data`, and passing other arguments without an explicit keyword will result in an error or misinterpretation.\n",
      "  warnings.warn(\n",
      "/home/krujo/Anaconda3/lib/python3.8/site-packages/seaborn/_decorators.py:36: FutureWarning: Pass the following variable as a keyword arg: x. From version 0.12, the only valid positional argument will be `data`, and passing other arguments without an explicit keyword will result in an error or misinterpretation.\n",
      "  warnings.warn(\n"
     ]
    },
    {
     "data": {
      "text/plain": [
       "<AxesSubplot:ylabel='count'>"
      ]
     },
     "execution_count": 4,
     "metadata": {},
     "output_type": "execute_result"
    },
    {
     "data": {
      "image/png": "[encoded data removed]",
      "text/plain": [
       "<Figure size 864x288 with 2 Axes>"
      ]
     },
     "metadata": {
      "needs_background": "light"
     },
     "output_type": "display_data"
    }
   ],
   "source": [
    "dice_3 = []\n",
    "dice_4 = []\n",
    "sums2 = []\n",
    "\n",
    "for _ in range(100):\n",
    "    roll_3 = np.random.choice(d1)\n",
    "    roll_4 = np.random.choice(d2)\n",
    "    dice_3.append(roll_3)\n",
    "    dice_4.append(roll_4)\n",
    "    \n",
    "    sums.append(roll_3 + roll_4)\n",
    "    \n",
    "fig, (ax1, ax2) = plt.subplots(ncols=2, sharey=True, figsize=(12,4))\n",
    "sns.countplot(dice_3, ax=ax1)\n",
    "sns.countplot(dice_4, ax=ax2)"
   ]
  },
  {
   "cell_type": "code",
   "execution_count": null,
   "metadata": {},
   "outputs": [],
   "source": []
  }
 ],
 "metadata": {
  "kernelspec": {
   "display_name": "ironhack",
   "language": "python",
   "name": "ironhack"
  },
  "language_info": {
   "codemirror_mode": {
    "name": "ipython",
    "version": 3
   },
   "file_extension": ".py",
   "mimetype": "text/x-python",
   "name": "python",
   "nbconvert_exporter": "python",
   "pygments_lexer": "ipython3",
   "version": "3.8.8"
  },
  "toc": {
   "base_numbering": 1,
   "nav_menu": {},
   "number_sections": false,
   "sideBar": true,
   "skip_h1_title": false,
   "title_cell": "Table of Contents",
   "title_sidebar": "Contents",
   "toc_cell": false,
   "toc_position": {
    "height": "calc(100% - 180px)",
    "left": "10px",
    "top": "150px",
    "width": "296.475px"
   },
   "toc_section_display": true,
   "toc_window_display": false
  },
  "varInspector": {
   "cols": {
    "lenName": 16,
    "lenType": 16,
    "lenVar": 40
   },
   "kernels_config": {
    "python": {
     "delete_cmd_postfix": "",
     "delete_cmd_prefix": "del ",
     "library": "var_list.py",
     "varRefreshCmd": "print(var_dic_list())"
    },
    "r": {
     "delete_cmd_postfix": ") ",
     "delete_cmd_prefix": "rm(",
     "library": "var_list.r",
     "varRefreshCmd": "cat(var_dic_list()) "
    }
   },
   "types_to_exclude": [
    "module",
    "function",
    "builtin_function_or_method",
    "instance",
    "_Feature"
   ],
   "window_display": false
  }
 },
 "nbformat": 4,
 "nbformat_minor": 2
}
