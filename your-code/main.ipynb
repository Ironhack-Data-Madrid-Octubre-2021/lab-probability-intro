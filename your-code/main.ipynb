{
 "cells": [
  {
   "cell_type": "markdown",
   "metadata": {},
   "source": [
    "# Probability"
   ]
  },
  {
   "cell_type": "markdown",
   "metadata": {},
   "source": [
    "## Challenge 1\n",
    "There is a box with 10 white balls, 12 red balls and 8 black balls. Calculate the probability of:\n",
    "* Taking a white ball out.\n",
    "* Taking a white ball on first extraction and a black ball out on second extraction without replacing the first one.\n",
    "* Taking a white ball on first extraction and a black ball out on second extraction replacing the first one.\n",
    "* Taking 3 balls and them being all different colours."
   ]
  },
  {
   "cell_type": "markdown",
   "metadata": {},
   "source": [
    "- #white ball out = 10/30 \n",
    "- white ball out and black without replace = 10/30 * 8/29 \n",
    "- white ball out and black replacing = 10/30 * 8/30\n"
   ]
  },
  {
   "cell_type": "markdown",
   "metadata": {},
   "source": [
    "- 3 balls diferent colurs\n",
    "    - BBB\n",
    "    - BNN\n",
    "    - BRR\n",
    "    - BBN\n",
    "    - BBR\n",
    "    - BNB\n",
    "    - *BNR\n",
    "    - BRB\n",
    "    - *BRN\n",
    "\n",
    "tomando las blancas como ejemplo, son 9 combinaciones por cada color que sacamos primero\n",
    "en cada combinación hay dos posibilidades de sacar 3 colores diferentes:\n",
    "- dos combinaciones de dif color = 9*3 = 27  3*2 = 6 ->  6/27\n"
   ]
  },
  {
   "cell_type": "markdown",
   "metadata": {},
   "source": [
    "## Challenge 2\n",
    "\n",
    "You want to go on picnic on Saturday. You hate rain, and would know to plan your weekend. To help you make a decision, you gather the following data about rainy days:\n",
    "\n",
    "* 40% of all days are cloudy.\n",
    "* About 50% of cloudy days are rainy. \n",
    "* About 20% of non-cloudy days are rainy.\n",
    "\n",
    "What is the chance of rain during next Saturday?"
   ]
  },
  {
   "cell_type": "markdown",
   "metadata": {},
   "source": [
    "cloudy (40%) -> rainy (50%) -----> 0.4*0.5 = 0.2\n",
    "\n",
    "non cloudy (60%) -> rainy(20%) ---> 0.6*.0.2 = 0.12\n",
    "\n",
    "0.2 + 0.12 = 0.32 (32%)"
   ]
  },
  {
   "cell_type": "markdown",
   "metadata": {},
   "source": [
    "## Challenge 3\n",
    "\n",
    "A and B are events of a probability such that $P(A) = 0.3$, $P(B) = 0.6$ and $P(A \\cap B) = 0.1$\n",
    "\n",
    "Which of the following statements are true?  \n",
    "**HINT: draw a big Venn Diagram by your side**  \n",
    "* $P(\\overline{A}) = 0.7$\n",
    "* $P(A \\cup B) = 0.6$\n",
    "* $P(A \\cap \\overline{B}) = 0.2$\n",
    "* $P(A \\cup \\overline{A}) = 1$  \n",
    "* $P(A \\cap (B \\cup \\overline{B})) = 0.4$\n",
    "* $P(\\overline{A} \\cap \\overline{B}) = 0.3$\n",
    "* $P(\\overline{A \\cap B}) = 0.9$"
   ]
  },
  {
   "cell_type": "markdown",
   "metadata": {},
   "source": [
    "* $P(\\overline{A})$ =\n",
    "    * 1-0.3 = 0.7 TRUE\n",
    "* $P(A \\cup B) $ =\n",
    "    * AUB = A + B -(A∩B)  0.3 + 0.6 - 0.1 = 0.8 FALSE\n",
    "* $P(A \\cap \\overline{B}) = 0.2$\n",
    "    * No B = AUB - B // (A ∩ noB) = A - (𝐴∩𝐵) // 0.3 - 0.1 = 0.2 TRUE\n",
    "* $P(A \\cup \\overline{A}) = 1$\n",
    "    *  AUnoA = AUB. = A+B-(A∩B) = 0.3+0.6+0.1 = 0.8 FALSE\n",
    "* $P(A \\cap (B \\cup \\overline{B})) = 0.4$\n",
    "    * BUnoB = AUB = 0.8 // la intersección de la unión de AyB con A es A = 0.3 FALSE\n",
    "* $P(\\overline{A} \\cap \\overline{B}) = 0.3$\n",
    "    * la intersección de noA y noB es el conjunto vacío de la unión de AyB = 0 FALSE\n",
    "* $P(\\overline{A \\cap B}) = 0.9$\n",
    "    * 1 - p(A∩B) = 0.9 TRUE\n"
   ]
  },
  {
   "cell_type": "markdown",
   "metadata": {},
   "source": [
    "## Challenge 4\n",
    "\n",
    " * If someone flies to China, the probability of getting Covid is 1%  \n",
    " * If someone flies to Italy, the probability of getting Covid is 20%  \n",
    "\n",
    "I roll 1 dice with numbers 1, 2, 3, 4, 5, 6:  \n",
    " * If 1: I fly to Italy\n",
    " * If not 1: I fly to China\n",
    "\n",
    "During my trip, I got Covid. What is the probability that I flew to China?"
   ]
  },
  {
   "cell_type": "markdown",
   "metadata": {},
   "source": [
    "- italy = 1/6 ->  covid = 0.2 -> 0.03\n",
    "- china = 5/6 ->  covid = 0.01 -> 0.008 \n",
    "- covid = 0.03 + 0.008 = 0.038"
   ]
  },
  {
   "cell_type": "code",
   "execution_count": null,
   "metadata": {},
   "outputs": [],
   "source": [
    "P(china/covid) = [p(china/covid) * p(china)]/p(covid)\n",
    "p(china/covid) =[0.01 * (5/6)]/0.038 = 0.000304/"
   ]
  },
  {
   "cell_type": "code",
   "execution_count": 3,
   "metadata": {},
   "outputs": [
    {
     "data": {
      "text/plain": [
       "0.2192982456140351"
      ]
     },
     "execution_count": 3,
     "metadata": {},
     "output_type": "execute_result"
    }
   ],
   "source": [
    "(0.01 * (5/6))/0.038"
   ]
  },
  {
   "cell_type": "markdown",
   "metadata": {},
   "source": [
    "## BONUS\n",
    "\n",
    "You roll 2 dice. What is the probability that the sum of the numbers is 7? And 8? And 9? Then simulate 10000 times and draw a countplot."
   ]
  },
  {
   "cell_type": "markdown",
   "metadata": {},
   "source": [
    "your explanation here"
   ]
  },
  {
   "cell_type": "code",
   "execution_count": 3,
   "metadata": {},
   "outputs": [
    {
     "data": {
      "text/plain": [
       "(0.16666666666666666, 0.1388888888888889, 0.1111111111111111)"
      ]
     },
     "execution_count": 3,
     "metadata": {},
     "output_type": "execute_result"
    }
   ],
   "source": [
    "dado1 = [1,2,3,4,5,6]\n",
    "dado2 = [1,2,3,4,5,6]\n",
    "\n",
    "suma = [] #espacio muestral de las sumas de los dados.\n",
    "for d in dado1:\n",
    "    for o in dado2:\n",
    "        r = d + o\n",
    "        suma.append(r)\n",
    "\n",
    "#suma = todas la posibilidades\n",
    "#pob de 7=\n",
    "pob7 = suma.count(7)/len(suma)\n",
    "pob8 = suma.count(8)/len(suma)\n",
    "pob9 = suma.count(9)/len(suma)\n",
    "pob7, pob8, pob9\n"
   ]
  },
  {
   "cell_type": "code",
   "execution_count": 12,
   "metadata": {},
   "outputs": [],
   "source": [
    "def randomtiradas(sample,tiradas):\n",
    "    import random\n",
    "    import seaborn as sns\n",
    "    t = []\n",
    "    for i in range(tiradas):\n",
    "        t.append(random.choice(sample))\n",
    "    return sns.countplot(t)\n",
    "        "
   ]
  },
  {
   "cell_type": "code",
   "execution_count": 13,
   "metadata": {
    "scrolled": false
   },
   "outputs": [
    {
     "name": "stderr",
     "output_type": "stream",
     "text": [
      "/home/sinatxe/anaconda3/envs/ironhack/lib/python3.8/site-packages/seaborn/_decorators.py:36: FutureWarning: Pass the following variable as a keyword arg: x. From version 0.12, the only valid positional argument will be `data`, and passing other arguments without an explicit keyword will result in an error or misinterpretation.\n",
      "  warnings.warn(\n"
     ]
    },
    {
     "data": {
      "text/plain": [
       "<AxesSubplot:ylabel='count'>"
      ]
     },
     "execution_count": 13,
     "metadata": {},
     "output_type": "execute_result"
    },
    {
     "data": {
      "image/png": "[encoded data removed]",
      "text/plain": [
       "<Figure size 432x288 with 1 Axes>"
      ]
     },
     "metadata": {
      "needs_background": "light"
     },
     "output_type": "display_data"
    }
   ],
   "source": [
    "randomtiradas(suma,100000)"
   ]
  },
  {
   "cell_type": "code",
   "execution_count": null,
   "metadata": {},
   "outputs": [],
   "source": []
  }
 ],
 "metadata": {
  "kernelspec": {
   "display_name": "ironhack",
   "language": "python",
   "name": "ironhack"
  },
  "toc": {
   "base_numbering": 1,
   "nav_menu": {},
   "number_sections": false,
   "sideBar": true,
   "skip_h1_title": false,
   "title_cell": "Table of Contents",
   "title_sidebar": "Contents",
   "toc_cell": false,
   "toc_position": {
    "height": "calc(100% - 180px)",
    "left": "10px",
    "top": "150px",
    "width": "296.475px"
   },
   "toc_section_display": true,
   "toc_window_display": false
  },
  "varInspector": {
   "cols": {
    "lenName": 16,
    "lenType": 16,
    "lenVar": 40
   },
   "kernels_config": {
    "python": {
     "delete_cmd_postfix": "",
     "delete_cmd_prefix": "del ",
     "library": "var_list.py",
     "varRefreshCmd": "print(var_dic_list())"
    },
    "r": {
     "delete_cmd_postfix": ") ",
     "delete_cmd_prefix": "rm(",
     "library": "var_list.r",
     "varRefreshCmd": "cat(var_dic_list()) "
    }
   },
   "types_to_exclude": [
    "module",
    "function",
    "builtin_function_or_method",
    "instance",
    "_Feature"
   ],
   "window_display": false
  }
 },
 "nbformat": 4,
 "nbformat_minor": 2
}
