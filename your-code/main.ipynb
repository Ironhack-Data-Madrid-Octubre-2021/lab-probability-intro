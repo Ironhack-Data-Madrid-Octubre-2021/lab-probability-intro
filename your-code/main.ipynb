{
 "cells": [
  {
   "cell_type": "markdown",
   "metadata": {},
   "source": [
    "# Probability"
   ]
  },
  {
   "cell_type": "markdown",
   "metadata": {},
   "source": [
    "## Challenge 1\n",
    "There is a box with 10 white balls, 12 red balls and 8 black balls. Calculate the probability of:\n",
    "* Taking a white ball out.\n",
    "* Taking a white ball on first extraction and a black ball out on second extraction without replacing the first one.\n",
    "* Taking a white ball on first extraction and a black ball out on second extraction replacing the first one.\n",
    "* Taking 3 balls and them being all different colours."
   ]
  },
  {
   "cell_type": "code",
   "execution_count": 51,
   "metadata": {},
   "outputs": [],
   "source": [
    "import random\n",
    "import seaborn as sns"
   ]
  },
  {
   "cell_type": "code",
   "execution_count": null,
   "metadata": {},
   "outputs": [],
   "source": [
    "\"\"\"\n",
    "* Taking a white ball out\n",
    "10/30=1/3=30%\n",
    "\n",
    "* Taking a white ball on first extraction and a black ball out on second extraction without replacing the first one.\n",
    "10/30 * 8/29 = 0.14 = 14%\n",
    "\n",
    "* Taking a white ball on first extraction and a black ball out on second extraction replacing the first one.\n",
    "10/30 * 8/30 = 0.13 = 13%\n",
    "\n",
    "* Taking 3 balls and them being all different colours.\n",
    "1/3 * 8/29 * 12/28 = 0.0394 = 3.94%\n",
    "\"\"\""
   ]
  },
  {
   "cell_type": "code",
   "execution_count": 63,
   "metadata": {},
   "outputs": [
    {
     "data": {
      "text/plain": [
       "0.03940886699507389"
      ]
     },
     "execution_count": 63,
     "metadata": {},
     "output_type": "execute_result"
    }
   ],
   "source": [
    "1/3 * 8/29 * 12/28"
   ]
  },
  {
   "cell_type": "markdown",
   "metadata": {},
   "source": [
    "## Challenge 2\n",
    "\n",
    "You want to go on picnic on Saturday. You hate rain, and would know to plan your weekend. To help you make a decision, you gather the following data about rainy days:\n",
    "\n",
    "* 40% of all days are cloudy.\n",
    "* About 50% of cloudy days are rainy. \n",
    "* About 20% of non-cloudy days are rainy.\n",
    "\n",
    "What is the chance of rain during next Saturday?"
   ]
  },
  {
   "cell_type": "code",
   "execution_count": null,
   "metadata": {},
   "outputs": [],
   "source": [
    "\"\"\"\n",
    "Multipy 0.40 * 0.50 + 0.20 * 0.60 = 0.32 = 32%\n",
    "I multiply the branch of clouds (0.40) and rain (0.50) and sum the branch of no clouds (0.60) and rain (0.20)\n",
    "\n",
    "your solution here\n",
    "\"\"\""
   ]
  },
  {
   "cell_type": "markdown",
   "metadata": {},
   "source": [
    "## Challenge 3\n",
    "\n",
    "A and B are events of a probability such that $P(A) = 0.3$, $P(B) = 0.6$ and $P(A \\cap B) = 0.1$\n",
    "\n",
    "Which of the following statements are true?  \n",
    "**HINT: draw a big Venn Diagram by your side**  \n",
    "* $P(\\overline{A}) = 0.7$\n",
    "* $P(A \\cup B) = 0.6$\n",
    "* $P(A \\cap \\overline{B}) = 0.2$\n",
    "* $P(A \\cup \\overline{A}) = 1$  \n",
    "* $P(A \\cap (B \\cup \\overline{B})) = 0.4$\n",
    "* $P(\\overline{A} \\cap \\overline{B}) = 0.3$\n",
    "* $P(\\overline{A \\cap B}) = 0.9$"
   ]
  },
  {
   "cell_type": "code",
   "execution_count": null,
   "metadata": {},
   "outputs": [],
   "source": [
    "\"\"\"\n",
    "* Prob of no A = 0.7 >>>  P(A) = 0.3 = 30% >> True\n",
    "* Prob of A U B = P(A) + P(B) - P(A int B) = 0.3 + 0.6 -0.1 = 0.8 = 80% >> False\n",
    "* Prob A ∩ no B = P(A) - P(A int B) = 0.3 -1 = 0.2 = 12% >> True\n",
    "* P(A) U P(no A) >> It is 100% probable because no matter what probability of something U probabilty of its opposite = 1 >> True\n",
    "* P(A) ∩ (B U no B) = B U no B is 1. 1 multiplied by P(A) = P(A) = 0.3 * 1 >> False\n",
    "* P(no A) ∩ P(no B) = 0.7 * 0.4 = 0.28 >> False\n",
    "* P(no A∩B) = inverse of A∩B = 1 - 0.1 = 0.9 >> True\n",
    "\n",
    "\"\"\"\n"
   ]
  },
  {
   "cell_type": "code",
   "execution_count": 65,
   "metadata": {},
   "outputs": [
    {
     "data": {
      "text/plain": [
       "0.2222222222222222"
      ]
     },
     "execution_count": 65,
     "metadata": {},
     "output_type": "execute_result"
    }
   ],
   "source": [
    "6/27"
   ]
  },
  {
   "cell_type": "markdown",
   "metadata": {},
   "source": [
    "## Challenge 4\n",
    "\n",
    " * If someone flies to China, the probability of getting Covid is 1%  \n",
    " * If someone flies to Italy, the probability of getting Covid is 20%  \n",
    "\n",
    "I roll 1 dice with numbers 1, 2, 3, 4, 5, 6:  \n",
    " * If 1: I fly to Italy\n",
    " * If not 1: I fly to China\n",
    "\n",
    "During my trip, I got Covid. What is the probability that I flew to China?"
   ]
  },
  {
   "cell_type": "code",
   "execution_count": 9,
   "metadata": {},
   "outputs": [
    {
     "data": {
      "text/plain": [
       "'\\nWe need to calculate P(China|covid)\\nP(China|Covid) = P(China int cov) / P(cov) = P(cov int China) / P(cov) = (P(cov|china)*P(china)) / P(cov)\\n\\n(P(cov|china)*P(china)) = (0.01*5/6) \\nP(cov) = (0.01*5/6 + 1/6*.2)\\n'"
      ]
     },
     "execution_count": 9,
     "metadata": {},
     "output_type": "execute_result"
    }
   ],
   "source": [
    "# your code here.\n",
    "\"\"\"\n",
    "We need to calculate P(China|covid)\n",
    "P(China|Covid) = P(China int cov) / P(cov) = P(cov int China) / P(cov) = (P(cov|china)*P(china)) / P(cov)\n",
    "\n",
    "(P(cov|china)*P(china)) = (0.01*5/6) \n",
    "P(cov) = (0.01*5/6 + 1/6*.2)\n",
    "\n",
    "The probability I flew to China is 20%\n",
    "\"\"\""
   ]
  },
  {
   "cell_type": "code",
   "execution_count": 10,
   "metadata": {},
   "outputs": [
    {
     "data": {
      "text/plain": [
       "0.2"
      ]
     },
     "execution_count": 10,
     "metadata": {},
     "output_type": "execute_result"
    }
   ],
   "source": [
    "(0.01*5/6) / (0.01*5/6 + 1/6*.2)"
   ]
  },
  {
   "cell_type": "code",
   "execution_count": null,
   "metadata": {},
   "outputs": [],
   "source": [
    "\"\"\"\n",
    "P(China|Covid) = P(China int cov) / P(cov) = P(cov int China) / P(cov) = (P(cov|china)*P(china)) / P(cov)\n",
    "\"\"\""
   ]
  },
  {
   "cell_type": "markdown",
   "metadata": {},
   "source": [
    "## BONUS\n",
    "\n",
    "You roll 2 dice. What is the probability that the sum of the numbers is 7? And 8? And 9? Then simulate 10000 times and draw a countplot."
   ]
  },
  {
   "cell_type": "markdown",
   "metadata": {},
   "source": [
    "your explanation here"
   ]
  },
  {
   "cell_type": "code",
   "execution_count": 58,
   "metadata": {},
   "outputs": [],
   "source": [
    "# your code here\n",
    "dado1 = [1,2,3,4,5,6]\n",
    "dado2 = [1,2,3,4,5,6]\n",
    "suma = []\n",
    "for d in dado1:\n",
    "    for o in dado2:\n",
    "        r = d+o\n",
    "        suma.append(r)"
   ]
  },
  {
   "cell_type": "code",
   "execution_count": 50,
   "metadata": {},
   "outputs": [
    {
     "name": "stdout",
     "output_type": "stream",
     "text": [
      "Probability of having a sum of 7 is 0.16666666666666666\n",
      "Probability of having a sum of 8 is 0.1388888888888889\n",
      "Probability of having a sum of 9 is 0.1111111111111111\n"
     ]
    }
   ],
   "source": [
    "prob7 = suma.count(7)/len(suma)\n",
    "prob8 = suma.count(8)/len(suma)\n",
    "prob9 = suma.count(9)/len(suma)\n",
    "print(f\"Probability of having a sum of 7 is {prob7}\")\n",
    "print(f\"Probability of having a sum of 8 is {prob8}\")\n",
    "print(f\"Probability of having a sum of 9 is {prob9}\")"
   ]
  },
  {
   "cell_type": "code",
   "execution_count": 59,
   "metadata": {},
   "outputs": [],
   "source": [
    "espacio = [1,2,3,4,5,6]\n",
    "suma = []\n",
    "for i in range(10000):\n",
    "    tirada1 = random.choice(espacio)\n",
    "    tirada2 = random.choice(espacio)\n",
    "    total = suma.append(tirada1+tirada2)"
   ]
  },
  {
   "cell_type": "code",
   "execution_count": 60,
   "metadata": {},
   "outputs": [
    {
     "name": "stderr",
     "output_type": "stream",
     "text": [
      "/home/andrestart/anaconda3/envs/iron/lib/python3.9/site-packages/seaborn/_decorators.py:36: FutureWarning: Pass the following variable as a keyword arg: x. From version 0.12, the only valid positional argument will be `data`, and passing other arguments without an explicit keyword will result in an error or misinterpretation.\n",
      "  warnings.warn(\n"
     ]
    },
    {
     "data": {
      "text/plain": [
       "<AxesSubplot:ylabel='count'>"
      ]
     },
     "execution_count": 60,
     "metadata": {},
     "output_type": "execute_result"
    },
    {
     "data": {
      "image/png": "[encoded data removed]",
      "text/plain": [
       "<Figure size 432x288 with 1 Axes>"
      ]
     },
     "metadata": {
      "needs_background": "light"
     },
     "output_type": "display_data"
    }
   ],
   "source": [
    "sns.countplot(suma)"
   ]
  },
  {
   "cell_type": "code",
   "execution_count": 57,
   "metadata": {},
   "outputs": [
    {
     "name": "stdout",
     "output_type": "stream",
     "text": [
      "Probability of having a sum of 7 tossing the dice 10000 times is 0.1665\n"
     ]
    }
   ],
   "source": [
    "probab7 = suma.count(7)/len(suma)\n",
    "print(f\"Probability of having a sum of 7 tossing the dice 10000 times is {probab7}\")"
   ]
  }
 ],
 "metadata": {
  "kernelspec": {
   "display_name": "Python 3 (ipykernel)",
   "language": "python",
   "name": "python3"
  },
  "language_info": {
   "codemirror_mode": {
    "name": "ipython",
    "version": 3
   },
   "file_extension": ".py",
   "mimetype": "text/x-python",
   "name": "python",
   "nbconvert_exporter": "python",
   "pygments_lexer": "ipython3",
   "version": "3.9.7"
  },
  "toc": {
   "base_numbering": 1,
   "nav_menu": {},
   "number_sections": false,
   "sideBar": true,
   "skip_h1_title": false,
   "title_cell": "Table of Contents",
   "title_sidebar": "Contents",
   "toc_cell": false,
   "toc_position": {
    "height": "calc(100% - 180px)",
    "left": "10px",
    "top": "150px",
    "width": "296.475px"
   },
   "toc_section_display": true,
   "toc_window_display": false
  },
  "varInspector": {
   "cols": {
    "lenName": 16,
    "lenType": 16,
    "lenVar": 40
   },
   "kernels_config": {
    "python": {
     "delete_cmd_postfix": "",
     "delete_cmd_prefix": "del ",
     "library": "var_list.py",
     "varRefreshCmd": "print(var_dic_list())"
    },
    "r": {
     "delete_cmd_postfix": ") ",
     "delete_cmd_prefix": "rm(",
     "library": "var_list.r",
     "varRefreshCmd": "cat(var_dic_list()) "
    }
   },
   "types_to_exclude": [
    "module",
    "function",
    "builtin_function_or_method",
    "instance",
    "_Feature"
   ],
   "window_display": false
  }
 },
 "nbformat": 4,
 "nbformat_minor": 2
}
