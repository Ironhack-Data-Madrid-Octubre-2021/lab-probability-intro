{
 "cells": [
  {
   "cell_type": "markdown",
   "metadata": {},
   "source": [
    "# Probability"
   ]
  },
  {
   "cell_type": "markdown",
   "metadata": {},
   "source": [
    "## Challenge 1\n",
    "There is a box with 10 white balls, 12 red balls and 8 black balls. Calculate the probability of:\n",
    "* Taking a white ball out.\n",
    "* Taking a white ball on first extraction and a black ball out on second extraction without replacing the first one.\n",
    "* Taking a white ball on first extraction and a black ball out on second extraction replacing the first one.\n",
    "* Taking 3 balls and them being all different colours."
   ]
  },
  {
   "cell_type": "code",
   "execution_count": null,
   "metadata": {},
   "outputs": [],
   "source": [
    "\"\"\"\n",
    "10\n",
    "12\n",
    "8\n",
    "\n",
    "total = 30\n",
    "\n",
    "10/30 = 0,33\n",
    "\n",
    "(10/30) y luego (8/29)\n",
    "\n",
    "10/30 - 8/30\n",
    "\n",
    "10/30 - 12/29 - 8/28\n",
    "10/30 - 8/28 - 12/29\n",
    "12/30 - 8/29 - 10/28\n",
    "12/30 - 10/28 - 8/29 \n",
    "8/30 - 10/29 - 12/28\n",
    "8/30 - 12/28 - 10/29 \n",
    "\"\"\""
   ]
  },
  {
   "cell_type": "markdown",
   "metadata": {},
   "source": [
    "## Challenge 2\n",
    "\n",
    "You want to go on picnic on Saturday. You hate rain, and would know to plan your weekend. To help you make a decision, you gather the following data about rainy days:\n",
    "\n",
    "* 40% of all days are cloudy.\n",
    "* About 50% of cloudy days are rainy. \n",
    "* About 20% of non-cloudy days are rainy.\n",
    "\n",
    "What is the chance of rain during next Saturday?"
   ]
  },
  {
   "cell_type": "code",
   "execution_count": null,
   "metadata": {},
   "outputs": [],
   "source": [
    "\"\"\"\n",
    "60% de que no sea cloudy\n",
    "    20% de que llueva siendo no cloudy\n",
    "    80% de que no llueva siendo no cloudy\n",
    "40% de que un día sea cloudy\n",
    "    50% son lluviosos\n",
    "    50% no son lluviosos\n",
    "\n",
    "cloudy y llueve [0,4*0,5] + sunny y llueve [0,6*0,2] = 0,32 chances of rain next Saturday \n",
    "\"\"\""
   ]
  },
  {
   "cell_type": "markdown",
   "metadata": {},
   "source": [
    "## Challenge 3\n",
    "\n",
    "A and B are events of a probability such that $P(A) = 0.3$, $P(B) = 0.6$ and $P(A \\cap B) = 0.1$\n",
    "\n",
    "Which of the following statements are true?  \n",
    "**HINT: draw a big Venn Diagram by your side**  \n",
    "* $P(\\overline{A}) = 0.7$\n",
    "* $P(A \\cup B) = 0.6$\n",
    "* $P(A \\cap \\overline{B}) = 0.2$\n",
    "* $P(A \\cup \\overline{A}) = 1$  \n",
    "* $P(A \\cap (B \\cup \\overline{B})) = 0.4$\n",
    "* $P(\\overline{A} \\cap \\overline{B}) = 0.3$\n",
    "* $P(\\overline{A \\cap B}) = 0.9$"
   ]
  },
  {
   "cell_type": "code",
   "execution_count": null,
   "metadata": {},
   "outputs": [],
   "source": [
    "\"\"\"\n",
    "P(negativa A) = 0.7 TRUE. 1-0.3 = 0.7\n",
    "P(unión A y B) = P(A)+P(B)-P(A intersección B) = 0.3+0.6 -0.1 = 0.8 FALSE\n",
    "P(intersección A y Bnegativa) = Pa(0.3) - 𝑃(𝐴∩𝐵)(0.1) = 0.2 TRUE\n",
    "𝑃(𝐴∪𝐴negativa)=1 TRUE\n",
    "𝑃(𝐴∩(𝐵∪𝐵negativ)) FALSE (B union B negativo = 1 y la intersección de a con 1 = 0.3 que es la probabilidad de A con)\n",
    "𝑃(𝐴n∩𝐵n) = 1- la unión de A y B (0.8) = 0.2 FALSE\n",
    "𝑃(𝐴∩nn𝐵)=0.9 = True Pan(0.7)+Pbn(0.4)-Paunionb(-0.2) = 0.9.\n",
    "\"\"\""
   ]
  },
  {
   "cell_type": "markdown",
   "metadata": {},
   "source": [
    "## Challenge 4\n",
    "\n",
    " * If someone flies to China, the probability of getting Covid is 1%  \n",
    " * If someone flies to Italy, the probability of getting Covid is 20%  \n",
    "\n",
    "I roll 1 dice with numbers 1, 2, 3, 4, 5, 6:  \n",
    " * If 1: I fly to Italy\n",
    " * If not 1: I fly to China\n",
    "\n",
    "During my trip, I got Covid. What is the probability that I flew to China?"
   ]
  },
  {
   "cell_type": "code",
   "execution_count": 11,
   "metadata": {},
   "outputs": [],
   "source": [
    "# your code here\n",
    "\n",
    "ProbCov = (5/6)*(1/100) / (5/6)*(1/100)+(1/6)*(2/5)"
   ]
  },
  {
   "cell_type": "code",
   "execution_count": 12,
   "metadata": {},
   "outputs": [
    {
     "data": {
      "text/plain": [
       "0.06676666666666667"
      ]
     },
     "execution_count": 12,
     "metadata": {},
     "output_type": "execute_result"
    }
   ],
   "source": [
    "ProbCov"
   ]
  },
  {
   "cell_type": "markdown",
   "metadata": {},
   "source": [
    "## BONUS\n",
    "\n",
    "You roll 2 dice. What is the probability that the sum of the numbers is 7? And 8? And 9? Then simulate 10000 times and draw a countplot."
   ]
  },
  {
   "cell_type": "markdown",
   "metadata": {},
   "source": [
    "your explanation here"
   ]
  },
  {
   "cell_type": "markdown",
   "metadata": {},
   "source": [
    "'''\n",
    "Para el 7\n",
    "(3,4)(4,3),etc hasta 6 combinaciones\n",
    "6/36 = 10%\n",
    "Para el 8\n",
    "(4,4)(4,4),etc hasta 6 combinaciones\n",
    "6/36 = 10%\n",
    "Para el 9\n",
    "(5,4)(4,5)(3,6)(6,3)\n",
    "4/36 = 9%\n",
    "'''\n"
   ]
  },
  {
   "cell_type": "code",
   "execution_count": null,
   "metadata": {},
   "outputs": [],
   "source": [
    "'''\n",
    "Ponemos el rango de los dados (1-6) \n",
    "y con la list comprehension hacemos que sume un elemento de cada dado.\n",
    "Después hacemos un dataframe y representamos la lista de resultados.\n",
    "'''"
   ]
  },
  {
   "cell_type": "code",
   "execution_count": 7,
   "metadata": {},
   "outputs": [
    {
     "data": {
      "text/plain": [
       "<AxesSubplot:xlabel='nums', ylabel='count'>"
      ]
     },
     "execution_count": 7,
     "metadata": {},
     "output_type": "execute_result"
    },
    {
     "data": {
      "image/png": "[encoded data removed]",
      "text/plain": [
       "<Figure size 432x288 with 1 Axes>"
      ]
     },
     "metadata": {
      "needs_background": "light"
     },
     "output_type": "display_data"
    }
   ],
   "source": [
    "# your code here\n",
    "import random\n",
    "import pandas as pd\n",
    "import seaborn as sns\n",
    "dado = [1,2,3,4,5,6]\n",
    "tiradas1 = random.choices(dado, n=10000)\n",
    "tiradas2 = random.choices(dado, n=10000)\n",
    "sum_list = [a + b for a, b in zip(tiradas1, tiradas2)]\n",
    "df = pd.DataFrame(sum_list)\n",
    "df = df.rename(columns={0: 'nums'})\n",
    "sns.countplot(x=df.nums)"
   ]
  }
 ],
 "metadata": {
  "kernelspec": {
   "display_name": "Python 3",
   "language": "python",
   "name": "python3"
  },
  "language_info": {
   "codemirror_mode": {
    "name": "ipython",
    "version": 3
   },
   "file_extension": ".py",
   "mimetype": "text/x-python",
   "name": "python",
   "nbconvert_exporter": "python",
   "pygments_lexer": "ipython3",
   "version": "3.8.8"
  },
  "toc": {
   "base_numbering": 1,
   "nav_menu": {},
   "number_sections": false,
   "sideBar": true,
   "skip_h1_title": false,
   "title_cell": "Table of Contents",
   "title_sidebar": "Contents",
   "toc_cell": false,
   "toc_position": {
    "height": "calc(100% - 180px)",
    "left": "10px",
    "top": "150px",
    "width": "296.475px"
   },
   "toc_section_display": true,
   "toc_window_display": false
  },
  "varInspector": {
   "cols": {
    "lenName": 16,
    "lenType": 16,
    "lenVar": 40
   },
   "kernels_config": {
    "python": {
     "delete_cmd_postfix": "",
     "delete_cmd_prefix": "del ",
     "library": "var_list.py",
     "varRefreshCmd": "print(var_dic_list())"
    },
    "r": {
     "delete_cmd_postfix": ") ",
     "delete_cmd_prefix": "rm(",
     "library": "var_list.r",
     "varRefreshCmd": "cat(var_dic_list()) "
    }
   },
   "types_to_exclude": [
    "module",
    "function",
    "builtin_function_or_method",
    "instance",
    "_Feature"
   ],
   "window_display": false
  }
 },
 "nbformat": 4,
 "nbformat_minor": 2
}
