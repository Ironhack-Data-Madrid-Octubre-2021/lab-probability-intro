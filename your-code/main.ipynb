{
 "cells": [
  {
   "cell_type": "markdown",
   "metadata": {},
   "source": [
    "# Probability"
   ]
  },
  {
   "cell_type": "markdown",
   "metadata": {},
   "source": [
    "## Challenge 1\n",
    "There is a box with 10 white balls, 12 red balls and 8 black balls. Calculate the probability of:\n",
    "* Taking a white ball out."
   ]
  },
  {
   "cell_type": "markdown",
   "metadata": {},
   "source": [
    "10/30 = 1/3"
   ]
  },
  {
   "cell_type": "markdown",
   "metadata": {},
   "source": [
    "* Taking a white ball on first extraction and a black ball out on second extraction without replacing the first one."
   ]
  },
  {
   "cell_type": "markdown",
   "metadata": {},
   "source": [
    "10/30 * 8/29 = 8/87"
   ]
  },
  {
   "cell_type": "markdown",
   "metadata": {},
   "source": [
    "* Taking a white ball on first extraction and a black ball out on second extraction replacing the first one."
   ]
  },
  {
   "cell_type": "markdown",
   "metadata": {},
   "source": [
    "10/30 * 8/30 = 8/90"
   ]
  },
  {
   "cell_type": "markdown",
   "metadata": {},
   "source": [
    "* Taking 3 balls and them being all different colours."
   ]
  },
  {
   "cell_type": "markdown",
   "metadata": {},
   "source": [
    "10/30 * 12/29 * 8/28"
   ]
  },
  {
   "cell_type": "markdown",
   "metadata": {},
   "source": [
    "## Challenge 2\n",
    "\n",
    "You want to go on picnic on Saturday. You hate rain, and would know to plan your weekend. To help you make a decision, you gather the following data about rainy days:\n",
    "\n",
    "* 40% of all days are cloudy.\n",
    "* About 50% of cloudy days are rainy. \n",
    "* About 20% of non-cloudy days are rainy.\n",
    "\n",
    "What is the chance of rain during next Saturday?"
   ]
  },
  {
   "cell_type": "markdown",
   "metadata": {},
   "source": [
    "40% * 50% + 60% * 20% = 20% + 12% = 32%"
   ]
  },
  {
   "cell_type": "markdown",
   "metadata": {},
   "source": [
    "## Challenge 3\n",
    "\n",
    "A and B are events of a probability such that $P(A) = 0.3$, $P(B) = 0.6$ and $P(A \\cap B) = 0.1$\n",
    "\n",
    "Which of the following statements are true?  \n",
    "**HINT: draw a big Venn Diagram by your side**  \n",
    "* $P(\\overline{A}) = 0.7$\n",
    "* $P(A \\cup B) = 0.6$\n",
    "* $P(A \\cap \\overline{B}) = 0.2$\n",
    "* $P(A \\cup \\overline{A}) = 1$  \n",
    "* $P(A \\cap (B \\cup \\overline{B})) = 0.4$\n",
    "* $P(\\overline{A} \\cap \\overline{B}) = 0.3$\n",
    "* $P(\\overline{A \\cap B}) = 0.9$"
   ]
  },
  {
   "cell_type": "markdown",
   "metadata": {},
   "source": [
    "* $P(\\overline{A}) = 0.7$  --------------------> True\n",
    "* $P(A \\cup B) = 0.6$  ------------------------> False, it is 0,8\n",
    "* $P(A \\cap \\overline{B}) = 0.2$ --------------> True\n",
    "* $P(A \\cup \\overline{A}) = 1$  ---------------> True\n",
    "* $P(A \\cap (B \\cup \\overline{B})) = 0.4$  ----> False, it is 0,3\n",
    "* $P(\\overline{A} \\cap \\overline{B}) = 0.3$ ---> False, it is 0,2\n",
    "* $P(\\overline{A \\cap B}) = 0.9$ --------------> True"
   ]
  },
  {
   "cell_type": "markdown",
   "metadata": {},
   "source": [
    "## Challenge 4\n",
    "\n",
    " * If someone flies to China, the probability of getting Covid is 1%  \n",
    " * If someone flies to Italy, the probability of getting Covid is 20%  \n",
    "\n",
    "I roll 1 dice with numbers 1, 2, 3, 4, 5, 6:  \n",
    " * If 1: I fly to Italy\n",
    " * If not 1: I fly to China\n",
    "\n",
    "During my trip, I got Covid. What is the probability that I flew to China?"
   ]
  },
  {
   "cell_type": "markdown",
   "metadata": {},
   "source": [
    "+ $P(China|Covid) = \\frac{P(Covid|China) * P(China) }{P(Covid)} = \\frac{\\frac{1}{100} * \\frac{5}{6} }{\\frac{5}{6} * \\frac{1}{100} + \\frac{1}{6} * \\frac{20}{100}   }   =  \\frac{\\frac{5}{600}}{\\frac{25}{600}}  =  \\frac{5}{25}   = \\frac{1}{5}$\n",
    "\n"
   ]
  },
  {
   "cell_type": "markdown",
   "metadata": {},
   "source": [
    "## BONUS\n",
    "\n",
    "You roll 2 dice. What is the probability that the sum of the numbers is 7? And 8? And 9? Then simulate 10000 times and draw a countplot."
   ]
  },
  {
   "cell_type": "markdown",
   "metadata": {},
   "source": [
    "your explanation here"
   ]
  },
  {
   "cell_type": "markdown",
   "metadata": {},
   "source": [
    "P(suma==7) = \n",
    "1+6  ==>  1/6 * 1/6 = 1/36\n",
    "2+5  ==>  1/6 * 1/6 = 1/36\n",
    "3+4  ==>  1/6 * 1/6 = 1/36\n",
    "4+3  ==>  1/6 * 1/6 = 1/36\n",
    "5+2  ==>  1/6 * 1/6 = 1/36\n",
    "6+1  ==>  1/6 * 1/6 = 1/36\n",
    "                    ----------\n",
    "                      6/36  = 1/6  = 0.16667\n",
    "                      \n",
    "P(suma==8) = \n",
    "2+6  ==>  1/6 * 1/6 = 1/36\n",
    "3+5  ==>  1/6 * 1/6 = 1/36\n",
    "4+4  ==>  1/6 * 1/6 = 1/36\n",
    "5+3  ==>  1/6 * 1/6 = 1/36\n",
    "6+2  ==>  1/6 * 1/6 = 1/36\n",
    "                    ----------\n",
    "                      5/36         = 0,13889\n",
    "\n",
    "P(suma==9) = \n",
    "3+6  ==>  1/6 * 1/6 = 1/36\n",
    "4+5  ==>  1/6 * 1/6 = 1/36\n",
    "5+4  ==>  1/6 * 1/6 = 1/36\n",
    "6+3  ==>  1/6 * 1/6 = 1/36\n",
    "                    ----------\n",
    "                      4/36  = 1/9  = 0,11111\n"
   ]
  },
  {
   "cell_type": "code",
   "execution_count": 22,
   "metadata": {},
   "outputs": [
    {
     "data": {
      "text/plain": [
       "{2: 0.0285,\n",
       " 3: 0.0539,\n",
       " 4: 0.0832,\n",
       " 5: 0.114,\n",
       " 6: 0.1408,\n",
       " 7: 0.1692,\n",
       " 8: 0.1351,\n",
       " 9: 0.1091,\n",
       " 10: 0.0818,\n",
       " 11: 0.0559,\n",
       " 12: 0.0285}"
      ]
     },
     "execution_count": 22,
     "metadata": {},
     "output_type": "execute_result"
    }
   ],
   "source": [
    "import random\n",
    "import pandas as pd\n",
    "\n",
    "n=10000\n",
    "\n",
    "espacio = [1,2,3,4,5,6]\n",
    "\n",
    "posibles_sumas = {2:0,3:0,4:0,5:0,6:0,7:0,8:0,9:0,10:0,11:0,12:0 }\n",
    "\n",
    "for i in range(n) :\n",
    "    posibles_sumas[sum(random.choices(espacio,k=2))] += 1\n",
    "\n",
    "prob = {}    \n",
    "for i,j in posibles_sumas.items() :\n",
    "    prob[i] = j/n\n",
    "prob\n",
    "\n"
   ]
  },
  {
   "cell_type": "code",
   "execution_count": 20,
   "metadata": {},
   "outputs": [
    {
     "data": {
      "text/plain": [
       "([<matplotlib.axis.XTick at 0x7fa7f07c9730>,\n",
       "  <matplotlib.axis.XTick at 0x7fa7f07c9700>,\n",
       "  <matplotlib.axis.XTick at 0x7fa7f07c10d0>,\n",
       "  <matplotlib.axis.XTick at 0x7fa7f078c520>,\n",
       "  <matplotlib.axis.XTick at 0x7fa7f078cc70>,\n",
       "  <matplotlib.axis.XTick at 0x7fa7f0793400>,\n",
       "  <matplotlib.axis.XTick at 0x7fa7f0793b50>,\n",
       "  <matplotlib.axis.XTick at 0x7fa7f079a2e0>,\n",
       "  <matplotlib.axis.XTick at 0x7fa7f07935b0>,\n",
       "  <matplotlib.axis.XTick at 0x7fa7f078c250>,\n",
       "  <matplotlib.axis.XTick at 0x7fa7f079aac0>],\n",
       " [Text(0, 0, '2'),\n",
       "  Text(1, 0, '3'),\n",
       "  Text(2, 0, '4'),\n",
       "  Text(3, 0, '5'),\n",
       "  Text(4, 0, '6'),\n",
       "  Text(5, 0, '7'),\n",
       "  Text(6, 0, '8'),\n",
       "  Text(7, 0, '9'),\n",
       "  Text(8, 0, '10'),\n",
       "  Text(9, 0, '11'),\n",
       "  Text(10, 0, '12')])"
      ]
     },
     "execution_count": 20,
     "metadata": {},
     "output_type": "execute_result"
    },
    {
     "data": {
      "image/png": "[encoded data removed]",
      "text/plain": [
       "<Figure size 432x288 with 1 Axes>"
      ]
     },
     "metadata": {
      "needs_background": "light"
     },
     "output_type": "display_data"
    }
   ],
   "source": [
    "import matplotlib.pyplot as plt\n",
    "\n",
    "plt.bar(range(len(posibles_sumas)), list(posibles_sumas.values()), align='center')\n",
    "plt.xticks(range(len(posibles_sumas)), list(posibles_sumas.keys()))"
   ]
  },
  {
   "cell_type": "code",
   "execution_count": null,
   "metadata": {},
   "outputs": [],
   "source": []
  }
 ],
 "metadata": {
  "kernelspec": {
   "display_name": "ironhack",
   "language": "python",
   "name": "ironhack"
  },
  "language_info": {
   "codemirror_mode": {
    "name": "ipython",
    "version": 3
   },
   "file_extension": ".py",
   "mimetype": "text/x-python",
   "name": "python",
   "nbconvert_exporter": "python",
   "pygments_lexer": "ipython3",
   "version": "3.8.5"
  },
  "toc": {
   "base_numbering": 1,
   "nav_menu": {},
   "number_sections": false,
   "sideBar": true,
   "skip_h1_title": false,
   "title_cell": "Table of Contents",
   "title_sidebar": "Contents",
   "toc_cell": false,
   "toc_position": {
    "height": "calc(100% - 180px)",
    "left": "10px",
    "top": "150px",
    "width": "296.475px"
   },
   "toc_section_display": true,
   "toc_window_display": false
  },
  "varInspector": {
   "cols": {
    "lenName": 16,
    "lenType": 16,
    "lenVar": 40
   },
   "kernels_config": {
    "python": {
     "delete_cmd_postfix": "",
     "delete_cmd_prefix": "del ",
     "library": "var_list.py",
     "varRefreshCmd": "print(var_dic_list())"
    },
    "r": {
     "delete_cmd_postfix": ") ",
     "delete_cmd_prefix": "rm(",
     "library": "var_list.r",
     "varRefreshCmd": "cat(var_dic_list()) "
    }
   },
   "types_to_exclude": [
    "module",
    "function",
    "builtin_function_or_method",
    "instance",
    "_Feature"
   ],
   "window_display": false
  }
 },
 "nbformat": 4,
 "nbformat_minor": 2
}
